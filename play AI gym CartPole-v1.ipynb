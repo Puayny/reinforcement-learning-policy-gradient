{
 "cells": [
  {
   "cell_type": "code",
   "execution_count": 3,
   "metadata": {
    "collapsed": true
   },
   "outputs": [],
   "source": [
    "import gym\n",
    "from policy_gradient_nn import NeuralNetwork\n",
    "import numpy as np\n",
    "import random\n",
    "import copy\n",
    "import time\n",
    "import pickle"
   ]
  },
  {
   "cell_type": "code",
   "execution_count": 4,
   "metadata": {
    "collapsed": true
   },
   "outputs": [],
   "source": [
    "def play_n_games(nn, num_games, gamma=0.0, fp_prob_random_select=0.1, choose_best_output=False):\n",
    "    advantage_all = []\n",
    "    time_survived = []\n",
    "    for _ in range(num_games):\n",
    "        advantage = play_single_game(nn, gamma, fp_prob_random_select, choose_best_output)\n",
    "        advantage_all.extend(advantage)\n",
    "        time_survived.append(len(advantage))\n",
    "    return np.array(advantage_all), time_survived\n",
    "\n",
    "def play_single_game(nn, gamma=0.0, fp_prob_random_select=0.1, render=False, choose_best_output=False):\n",
    "    reward = []\n",
    "    is_game_over = False\n",
    "\n",
    "    env = gym.make('CartPole-v1')\n",
    "    state_recent_three = env.reset()\n",
    "    state_curr = copy.deepcopy(state_recent_three)\n",
    "    state_recent_three = np.hstack([state_recent_three, state_recent_three, state_recent_three])\n",
    "    while not is_game_over:\n",
    "        if render:\n",
    "            env.render()\n",
    "        state_recent_three = np.hstack([state_recent_three[4:], state_curr])\n",
    "        _, action_curr = nn.fp(state_recent_three.reshape(-1, 1), fp_prob_random_select, choose_best_output)\n",
    "        action_curr = int(action_curr[0])\n",
    "        state_curr, reward_curr, is_game_over, _ = env.step(action_curr)\n",
    "        \n",
    "        if is_game_over and len(reward)<500: reward_curr = -100\n",
    "        reward.append(reward_curr)\n",
    "    advantage = calc_advantage(reward, gamma, len(reward))\n",
    "    return advantage\n",
    "\n",
    "def calc_advantage(reward, gamma, max_rnd):\n",
    "    advantage = [0 for i in range(max_rnd)]\n",
    "    prev_advantage = 0\n",
    "    for i in range(len(reward) - 1, -1, -1):\n",
    "        curr_advantage = reward[i] + (gamma * prev_advantage)\n",
    "        advantage[i] = float(curr_advantage)\n",
    "        prev_advantage = float(curr_advantage)\n",
    "    return advantage\n",
    "\n",
    "def normalize_advantage(advantage):\n",
    "    normalized_advantage = np.array(advantage, dtype='float')\n",
    "    normalized_advantage -= np.mean(normalized_advantage)\n",
    "    normalized_advantage /= np.std(normalized_advantage)\n",
    "    return normalized_advantage"
   ]
  },
  {
   "cell_type": "code",
   "execution_count": null,
   "metadata": {},
   "outputs": [],
   "source": [
    "nn = NeuralNetwork([12,128,128,2])\n",
    "\n",
    "learning_rate_init = 0.10\n",
    "learning_rate_decay = 0\n",
    "gamma = 0.99\n",
    "fp_prob_random_select = 0.05\n",
    "for epoch in range(1000):\n",
    "    #update gradients every 5 games. Could choose number of games depending on length survived in each game, but this works for now\n",
    "    advantage_all, time_survived = play_n_games(nn, 5, gamma=gamma,fp_prob_random_select=fp_prob_random_select)\n",
    "    normalized_advantage_all = normalize_advantage(advantage_all)\n",
    "    nn.bp(normalized_advantage_all)\n",
    "    learning_rate = learning_rate_init / (1 + learning_rate_decay * epoch)\n",
    "    nn.update_weights(learning_rate=learning_rate)\n",
    "    nn.clear_caches()\n",
    "    if epoch%50==0: \n",
    "        print('Epoch={} lr={}'.format(epoch, learning_rate))\n",
    "        print('Avg time survived over 5 rounds={}'.format(sum(time_survived)/len(time_survived)))"
   ]
  },
  {
   "cell_type": "code",
   "execution_count": 5,
   "metadata": {},
   "outputs": [],
   "source": [
    "#save NN to file\n",
    "# with open('CartPole-v1_trained_NN.pickle', 'wb') as f:\n",
    "#     pickle.dump(nn, f)\n",
    "\n",
    "#load NN from file\n",
    "with open('CartPole-v1_trained_NN.pickle', 'rb') as f:\n",
    "    nn = pickle.load(f)"
   ]
  },
  {
   "cell_type": "code",
   "execution_count": 6,
   "metadata": {},
   "outputs": [
    {
     "name": "stdout",
     "output_type": "stream",
     "text": [
      "Avg score over 100 games: 500.0\n"
     ]
    }
   ],
   "source": [
    "#avg score over 100 games\n",
    "adv_len = []\n",
    "for _ in range(100):\n",
    "    adv = play_single_game(nn, gamma=0.0, fp_prob_random_select=0.0, choose_best_output=True, render=False)\n",
    "    adv_len.append(len(adv))\n",
    "    nn.clear_caches()\n",
    "print('Avg score over 100 games: {}'.format(sum(adv_len)/len(adv_len)))"
   ]
  },
  {
   "cell_type": "code",
   "execution_count": 8,
   "metadata": {},
   "outputs": [
    {
     "name": "stdout",
     "output_type": "stream",
     "text": [
      "Score this round: 500\n"
     ]
    }
   ],
   "source": [
    "#rendering of the trained network playing a game\n",
    "adv = play_single_game(nn, gamma=0.0, fp_prob_random_select=0.0, choose_best_output=True, render=True)\n",
    "nn.clear_caches()\n",
    "print('Score this round: {}'.format(len(adv)))"
   ]
  },
  {
   "cell_type": "code",
   "execution_count": null,
   "metadata": {
    "collapsed": true
   },
   "outputs": [],
   "source": []
  }
 ],
 "metadata": {
  "kernelspec": {
   "display_name": "Python [conda env:defaultenv]",
   "language": "python",
   "name": "conda-env-defaultenv-py"
  },
  "language_info": {
   "codemirror_mode": {
    "name": "ipython",
    "version": 3
   },
   "file_extension": ".py",
   "mimetype": "text/x-python",
   "name": "python",
   "nbconvert_exporter": "python",
   "pygments_lexer": "ipython3",
   "version": "3.6.3"
  }
 },
 "nbformat": 4,
 "nbformat_minor": 2
}
